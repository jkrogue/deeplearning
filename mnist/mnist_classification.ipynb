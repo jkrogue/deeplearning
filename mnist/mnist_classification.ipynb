{
 "cells": [
  {
   "cell_type": "code",
   "execution_count": 1,
   "metadata": {},
   "outputs": [],
   "source": [
    "from neural_network import NeuralNetwork\n",
    "import numpy as np\n",
    "import struct\n",
    "\n",
    "# read in mnist dataset\n",
    "def read_idx(filename):\n",
    "    with open(filename, 'rb') as f:\n",
    "        zero, data_type, dims = struct.unpack('>HBB', f.read(4))\n",
    "        shape = tuple(struct.unpack('>I', f.read(4))[0] for d in range(dims))\n",
    "        array = np.fromstring(f.read(), dtype=np.uint8).reshape(shape)\n",
    "        return array.reshape(array.shape[0],-1).T\n",
    "        \n",
    "def convert_to_multiclass(Y):\n",
    "    '''\n",
    "    Convert Y from shape(1 x m) to shape (10 x m)\n",
    "    '''\n",
    "    Y_list = []\n",
    "    for each in Y[0,:]:\n",
    "        this_Y = np.zeros((10,))\n",
    "        this_Y[each] = 1\n",
    "        Y_list.append(this_Y)\n",
    "    \n",
    "    multiclass = np.array(Y_list).T\n",
    "    return multiclass\n",
    "\n",
    "\n",
    "def show_numbers(data, start_idx, end_idx):\n",
    "    side = np.int8(np.sqrt(data.shape[0]))\n",
    "    for each in range(start_idx, end_idx):\n",
    "        pixels = ((data[:,each].reshape(side,side) * 255).astype(np.uint8))\n",
    "        plt.imshow(pixels, cmap=plt.cm.binary)\n",
    "        plt.show()"
   ]
  },
  {
   "cell_type": "code",
   "execution_count": 2,
   "metadata": {},
   "outputs": [
    {
     "name": "stdout",
     "output_type": "stream",
     "text": [
      "Train shape:\n",
      "X: (784, 60000)\n",
      "Y: (1, 60000)\n",
      "[[5 0 4 1 9]]\n"
     ]
    },
    {
     "name": "stderr",
     "output_type": "stream",
     "text": [
      "/anaconda3/lib/python3.6/site-packages/ipykernel_launcher.py:10: DeprecationWarning: The binary mode of fromstring is deprecated, as it behaves surprisingly on unicode inputs. Use frombuffer instead\n",
      "  # Remove the CWD from sys.path while we load stuff.\n"
     ]
    }
   ],
   "source": [
    "train_X = read_idx('dataset/train_images_ubyte')\n",
    "train_Y = read_idx('dataset/train_labels_ubyte')\n",
    "test_X = read_idx('dataset/test_images_ubyte')\n",
    "test_Y = read_idx('dataset/test_labels_ubyte')\n",
    "\n",
    "print(\"Train shape:\\nX: {}\\nY: {}\".format(train_X.shape,train_Y.shape))\n",
    "print(train_Y[:,:5])"
   ]
  },
  {
   "cell_type": "code",
   "execution_count": 3,
   "metadata": {},
   "outputs": [
    {
     "name": "stdout",
     "output_type": "stream",
     "text": [
      "[[0. 1. 0. 0. 0.]\n",
      " [0. 0. 0. 1. 0.]\n",
      " [0. 0. 0. 0. 0.]\n",
      " [0. 0. 0. 0. 0.]\n",
      " [0. 0. 1. 0. 0.]\n",
      " [1. 0. 0. 0. 0.]\n",
      " [0. 0. 0. 0. 0.]\n",
      " [0. 0. 0. 0. 0.]\n",
      " [0. 0. 0. 0. 0.]\n",
      " [0. 0. 0. 0. 1.]]\n"
     ]
    }
   ],
   "source": [
    "multiclass_train_Y = convert_to_multiclass(train_Y)\n",
    "multiclass_test_Y = convert_to_multiclass(test_Y)\n",
    "\n",
    "print(multiclass_train_Y[:,:5])"
   ]
  },
  {
   "cell_type": "code",
   "execution_count": 4,
   "metadata": {},
   "outputs": [
    {
     "data": {
      "text/plain": [
       "array([1, 0, 0, 1, 1])"
      ]
     },
     "execution_count": 4,
     "metadata": {},
     "output_type": "execute_result"
    }
   ],
   "source": [
    "this = np.array([[0,5,3,10,3],\n",
    "                 [3,2,1,11,4]])\n",
    "np.argmax(this, axis=0)"
   ]
  },
  {
   "cell_type": "code",
   "execution_count": 7,
   "metadata": {},
   "outputs": [
    {
     "name": "stdout",
     "output_type": "stream",
     "text": [
      "Layer 1:\n",
      "\tW.shape: (50, 784)\n",
      "\tb.shape: (50, 1)\n",
      "\tinitialization method: he\n",
      "\tactivation method: relu\n",
      "\n",
      "Layer 2:\n",
      "\tW.shape: (10, 50)\n",
      "\tb.shape: (10, 1)\n",
      "\tinitialization method: he\n",
      "\tactivation method: sigmoid\n",
      "\n",
      "\n"
     ]
    }
   ],
   "source": [
    "layer_dims = [train_X.shape[0],50,10]\n",
    "nn = NeuralNetwork(layer_dims,init_method='he')\n",
    "print(nn)"
   ]
  },
  {
   "cell_type": "code",
   "execution_count": 6,
   "metadata": {},
   "outputs": [
    {
     "name": "stdout",
     "output_type": "stream",
     "text": [
      "Cost after epoch 0/50: 32.81184520011145\n"
     ]
    }
   ],
   "source": [
    "costs = nn.train(train_X, multiclass_train_Y, batcoptimizer='adam')"
   ]
  },
  {
   "cell_type": "code",
   "execution_count": null,
   "metadata": {},
   "outputs": [],
   "source": []
  }
 ],
 "metadata": {
  "kernelspec": {
   "display_name": "Python 3",
   "language": "python",
   "name": "python3"
  },
  "language_info": {
   "codemirror_mode": {
    "name": "ipython",
    "version": 3
   },
   "file_extension": ".py",
   "mimetype": "text/x-python",
   "name": "python",
   "nbconvert_exporter": "python",
   "pygments_lexer": "ipython3",
   "version": "3.6.5"
  }
 },
 "nbformat": 4,
 "nbformat_minor": 2
}
