{
 "cells": [
  {
   "cell_type": "markdown",
   "metadata": {},
   "source": [
    "# MNIST classification\n",
    "\n",
    "This notebook explores performance in MNIST classification using object-oriented deep neural network I implemented using softmax regression"
   ]
  },
  {
   "cell_type": "code",
   "execution_count": 1,
   "metadata": {},
   "outputs": [],
   "source": [
    "from neural_network import NeuralNetwork\n",
    "import numpy as np\n",
    "import struct\n",
    "\n",
    "# read in mnist dataset\n",
    "def read_idx(filename):\n",
    "    with open(filename, 'rb') as f:\n",
    "        zero, data_type, dims = struct.unpack('>HBB', f.read(4))\n",
    "        shape = tuple(struct.unpack('>I', f.read(4))[0] for d in range(dims))\n",
    "        array = np.fromstring(f.read(), dtype=np.uint8).reshape(shape)\n",
    "        return array.reshape(array.shape[0],-1).T\n",
    "        \n",
    "def convert_to_multiclass(Y):\n",
    "    '''\n",
    "    Convert Y from shape(1 x m) to shape (10 x m)\n",
    "    '''\n",
    "    Y_list = []\n",
    "    for each in Y[0,:]:\n",
    "        this_Y = np.zeros((10,))\n",
    "        this_Y[each] = 1\n",
    "        Y_list.append(this_Y)\n",
    "    \n",
    "    multiclass = np.array(Y_list).T\n",
    "    return multiclass\n",
    "\n",
    "\n",
    "def show_numbers(data, start_idx, end_idx):\n",
    "    side = np.int8(np.sqrt(data.shape[0]))\n",
    "    for each in range(start_idx, end_idx):\n",
    "        pixels = ((data[:,each].reshape(side,side) * 255).astype(np.uint8))\n",
    "        plt.imshow(pixels, cmap=plt.cm.binary)\n",
    "        plt.show()\n",
    "        \n",
    "def model(train_X, test_X, train_Y, test_Y, layer_dims, init_method = 'standard', learning_rate = 0.05, \n",
    "          batch_size = 64, num_epochs = 50, optimizer = 'gd', lambd = 0, keep_prob = 1, \n",
    "          beta1 = 0.9, beta2 = 0.999, epsilon = 10**-8, print_int = 1, print_costs = True):\n",
    "    '''Convenience method used to perform modeling'''\n",
    "    \n",
    "    nn = NeuralNetwork(layer_dims,init_method=init_method)\n",
    "    \n",
    "    costs = nn.train(train_X, train_Y, learning_rate = learning_rate, batch_size = batch_size, \n",
    "                     num_epochs = num_epochs, optimizer = optimizer, lambd = lambd,\n",
    "                     keep_prob = keep_prob, beta1 = beta1, beta2 = beta2, epsilon = epsilon,\n",
    "                     print_int = print_int, print_costs = print_costs)\n",
    "    \n",
    "    \n",
    "    train_predict = nn.predict(train_X)\n",
    "    NeuralNetwork.print_accuracy(train_predict, train_Y, dataset_name=\"Train set\")\n",
    "\n",
    "    test_predict = nn.predict(test_X)\n",
    "    NeuralNetwork.print_accuracy(test_predict, test_Y, dataset_name=\"Test set\")\n",
    "    \n",
    "    return nn"
   ]
  },
  {
   "cell_type": "code",
   "execution_count": 2,
   "metadata": {},
   "outputs": [
    {
     "name": "stderr",
     "output_type": "stream",
     "text": [
      "/anaconda3/lib/python3.6/site-packages/ipykernel_launcher.py:10: DeprecationWarning: The binary mode of fromstring is deprecated, as it behaves surprisingly on unicode inputs. Use frombuffer instead\n",
      "  # Remove the CWD from sys.path while we load stuff.\n"
     ]
    },
    {
     "name": "stdout",
     "output_type": "stream",
     "text": [
      "Train shape:\n",
      "X: (784, 60000)\n",
      "Y: (1, 60000)\n"
     ]
    }
   ],
   "source": [
    "# load\n",
    "train_X = read_idx('dataset/train_images_ubyte')\n",
    "train_Y = read_idx('dataset/train_labels_ubyte')\n",
    "test_X = read_idx('dataset/test_images_ubyte')\n",
    "test_Y = read_idx('dataset/test_labels_ubyte')\n",
    "\n",
    "# normalize\n",
    "train_X = train_X / np.max(train_X)\n",
    "test_X = test_X / np.max(test_X)\n",
    "\n",
    "print(\"Train shape:\\nX: {}\\nY: {}\".format(train_X.shape,train_Y.shape))"
   ]
  },
  {
   "cell_type": "code",
   "execution_count": 3,
   "metadata": {},
   "outputs": [
    {
     "name": "stdout",
     "output_type": "stream",
     "text": [
      "[[5 0]]\n",
      "[[0. 1.]\n",
      " [0. 0.]\n",
      " [0. 0.]\n",
      " [0. 0.]\n",
      " [0. 0.]\n",
      " [1. 0.]\n",
      " [0. 0.]\n",
      " [0. 0.]\n",
      " [0. 0.]\n",
      " [0. 0.]]\n"
     ]
    }
   ],
   "source": [
    "# convert output data to 2D array (to allow use with softmax)\n",
    "\n",
    "multiclass_train_Y = convert_to_multiclass(train_Y)\n",
    "multiclass_test_Y = convert_to_multiclass(test_Y)\n",
    "\n",
    "print(train_Y[:,:2])\n",
    "print(multiclass_train_Y[:,:2])"
   ]
  },
  {
   "cell_type": "code",
   "execution_count": 4,
   "metadata": {},
   "outputs": [],
   "source": [
    "n_x = train_X.shape[0]\n",
    "n_y = multiclass_train_Y.shape[0]"
   ]
  },
  {
   "cell_type": "markdown",
   "metadata": {},
   "source": [
    "### Single layer NN (logistic regression)"
   ]
  },
  {
   "cell_type": "code",
   "execution_count": 5,
   "metadata": {},
   "outputs": [
    {
     "name": "stdout",
     "output_type": "stream",
     "text": [
      "Cost after epoch 0/50: 5.936088549185273\n",
      "Cost after epoch 1/50: 9.097407274554952\n",
      "Cost after epoch 2/50: 11.063471526602306\n",
      "Cost after epoch 3/50: 14.338950909919895\n",
      "Cost after epoch 4/50: 13.00460203378837\n",
      "Cost after epoch 5/50: 11.211778738255283\n",
      "Cost after epoch 6/50: 5.204176630521559\n",
      "Cost after epoch 7/50: 4.739740649963984\n",
      "Cost after epoch 8/50: 14.2458075121803\n",
      "Cost after epoch 9/50: 10.316136264787444\n",
      "Cost after epoch 10/50: 8.797722249407478\n",
      "Cost after epoch 11/50: 12.773882787790978\n",
      "Cost after epoch 12/50: 4.049367174258591\n",
      "Cost after epoch 13/50: 2.8786409988723802\n",
      "Cost after epoch 14/50: 10.131550730605678\n",
      "Cost after epoch 15/50: 1.956743233520785\n",
      "Cost after epoch 16/50: 12.926262204400317\n",
      "Cost after epoch 17/50: 6.918485318397735\n",
      "Cost after epoch 18/50: 9.353000633089614\n",
      "Cost after epoch 19/50: 2.720676530688244\n",
      "Cost after epoch 20/50: 8.073585055481978\n",
      "Cost after epoch 21/50: 9.676306537325704\n",
      "Cost after epoch 22/50: 7.254928848911033\n",
      "Cost after epoch 23/50: 8.466220615046403\n",
      "Cost after epoch 24/50: 5.662894872879816\n",
      "Cost after epoch 25/50: 6.860288335077708\n",
      "Cost after epoch 26/50: 8.269462828199696\n",
      "Cost after epoch 27/50: 8.66628958885969\n",
      "Cost after epoch 28/50: 2.5767861164134107\n",
      "Cost after epoch 29/50: 4.507254992398687\n",
      "Cost after epoch 30/50: 6.878529694502281\n",
      "Cost after epoch 31/50: 20.20801732429587\n",
      "Cost after epoch 32/50: 6.174493676141272\n",
      "Cost after epoch 33/50: 16.459613309787674\n",
      "Cost after epoch 34/50: 6.847224088101332\n",
      "Cost after epoch 35/50: 4.4823759151692535\n",
      "Cost after epoch 36/50: 10.852966810024906\n",
      "Cost after epoch 37/50: 1.6721261861527745\n",
      "Cost after epoch 38/50: 6.271464054769595\n",
      "Cost after epoch 39/50: 7.040248026158831\n",
      "Cost after epoch 40/50: 11.05605487563456\n",
      "Cost after epoch 41/50: 12.388806127430863\n",
      "Cost after epoch 42/50: 5.940005195299642\n",
      "Cost after epoch 43/50: 3.412423300263629\n",
      "Cost after epoch 44/50: 5.995545309470291\n",
      "Cost after epoch 45/50: 2.858972535418403\n",
      "Cost after epoch 46/50: 5.979704768981629\n",
      "Cost after epoch 47/50: 12.96476583017971\n",
      "Cost after epoch 48/50: 11.306510309575485\n",
      "Cost after epoch 49/50: 4.980680126346819\n",
      "Train set accuracy: 92.95166666666667%\n",
      "Test set accuracy: 92.4%\n"
     ]
    }
   ],
   "source": [
    "layer_dims = [n_x,n_y]\n",
    "nn = model(train_X, test_X, multiclass_train_Y, multiclass_test_Y, layer_dims)"
   ]
  },
  {
   "cell_type": "markdown",
   "metadata": {},
   "source": [
    "#### Overall, not much overfitting here.  Just need to perform better on training data (high bias).  Therefore need better architecture or to train longer"
   ]
  },
  {
   "cell_type": "markdown",
   "metadata": {},
   "source": [
    "### 2 layer NN with 100 HU"
   ]
  },
  {
   "cell_type": "code",
   "execution_count": 6,
   "metadata": {},
   "outputs": [
    {
     "name": "stdout",
     "output_type": "stream",
     "text": [
      "Cost after epoch 0/50: 9.613306056424634\n",
      "Cost after epoch 1/50: 9.122927167419721\n",
      "Cost after epoch 2/50: 4.202536282923826\n",
      "Cost after epoch 3/50: 5.623462360216738\n",
      "Cost after epoch 4/50: 9.467037999129062\n",
      "Cost after epoch 5/50: 9.599000766280955\n",
      "Cost after epoch 6/50: 8.834463333758139\n",
      "Cost after epoch 7/50: 4.91717113681793\n",
      "Cost after epoch 8/50: 1.5495119669034985\n",
      "Cost after epoch 9/50: 1.1868075312243227\n",
      "Cost after epoch 10/50: 2.2973349809640675\n",
      "Cost after epoch 11/50: 5.91045718531282\n",
      "Cost after epoch 12/50: 4.512645788659789\n",
      "Cost after epoch 13/50: 0.48005315508658775\n",
      "Cost after epoch 14/50: 2.64028532640309\n",
      "Cost after epoch 15/50: 6.110973503386994\n",
      "Cost after epoch 16/50: 3.57921696787658\n",
      "Cost after epoch 17/50: 3.819206034867924\n",
      "Cost after epoch 18/50: 0.7187427159359527\n",
      "Cost after epoch 19/50: 1.0820061337734148\n",
      "Cost after epoch 20/50: 0.7136652579810604\n",
      "Cost after epoch 21/50: 5.217090761735295\n",
      "Cost after epoch 22/50: 0.8545827937499285\n",
      "Cost after epoch 23/50: 2.1070698245105515\n",
      "Cost after epoch 24/50: 1.7571720228891514\n",
      "Cost after epoch 25/50: 0.793126192119337\n",
      "Cost after epoch 26/50: 0.06891801760336322\n",
      "Cost after epoch 27/50: 1.1477342927256484\n",
      "Cost after epoch 28/50: 0.6861220457577971\n",
      "Cost after epoch 29/50: 4.413446681638162\n",
      "Cost after epoch 30/50: 2.91777377695155\n",
      "Cost after epoch 31/50: 0.8088310342987213\n",
      "Cost after epoch 32/50: 1.2408097021663989\n",
      "Cost after epoch 33/50: 0.26111756537060743\n",
      "Cost after epoch 34/50: 0.9642518297900203\n",
      "Cost after epoch 35/50: 0.9021054852507717\n",
      "Cost after epoch 36/50: 0.9838015402523723\n",
      "Cost after epoch 37/50: 1.5355519500696795\n",
      "Cost after epoch 38/50: 0.24594902798501875\n",
      "Cost after epoch 39/50: 1.2277290747428282\n",
      "Cost after epoch 40/50: 0.8228456017677134\n",
      "Cost after epoch 41/50: 0.5882097903428989\n",
      "Cost after epoch 42/50: 0.9267537351632142\n",
      "Cost after epoch 43/50: 1.458839214183302\n",
      "Cost after epoch 44/50: 0.2377933758029941\n",
      "Cost after epoch 45/50: 0.8224521169647312\n",
      "Cost after epoch 46/50: 0.9248824262171504\n",
      "Cost after epoch 47/50: 1.1849500891300901\n",
      "Cost after epoch 48/50: 0.6410321840572353\n",
      "Cost after epoch 49/50: 0.34022963150870034\n",
      "Train set accuracy: 99.74333333333333%\n",
      "Test set accuracy: 97.76%\n"
     ]
    }
   ],
   "source": [
    "layer_dims = [n_x,100,n_y]\n",
    "nn = model(train_X, test_X, multiclass_train_Y, multiclass_test_Y, layer_dims)"
   ]
  },
  {
   "cell_type": "markdown",
   "metadata": {},
   "source": [
    "#### Wow, great performance on train set (bias much improved with only 0.27% error).  Let's try some more architectures"
   ]
  },
  {
   "cell_type": "markdown",
   "metadata": {},
   "source": [
    "### 2 layer NN with 300 HU"
   ]
  },
  {
   "cell_type": "code",
   "execution_count": 7,
   "metadata": {},
   "outputs": [
    {
     "name": "stdout",
     "output_type": "stream",
     "text": [
      "Cost after epoch 0/50: 5.9681816138079675\n",
      "Cost after epoch 1/50: 5.167716966832673\n",
      "Cost after epoch 2/50: 4.910781525010577\n",
      "Cost after epoch 3/50: 6.7333971309139145\n",
      "Cost after epoch 4/50: 5.749005001595094\n",
      "Cost after epoch 5/50: 2.2129575228460556\n",
      "Cost after epoch 6/50: 10.706185930849177\n",
      "Cost after epoch 7/50: 8.130948564518759\n",
      "Cost after epoch 8/50: 4.099771939347459\n",
      "Cost after epoch 9/50: 7.383392178413406\n",
      "Cost after epoch 10/50: 3.1406043334121367\n",
      "Cost after epoch 11/50: 8.737075335510475\n",
      "Cost after epoch 12/50: 3.075514307247179\n",
      "Cost after epoch 13/50: 3.0473505046829827\n",
      "Cost after epoch 14/50: 1.8790954958433765\n",
      "Cost after epoch 15/50: 5.055506990998065\n",
      "Cost after epoch 16/50: 1.2284294284579094\n",
      "Cost after epoch 17/50: 1.5942712468122633\n",
      "Cost after epoch 18/50: 4.884040039531151\n",
      "Cost after epoch 19/50: 0.8086234076014627\n",
      "Cost after epoch 20/50: 1.054636923441886\n",
      "Cost after epoch 21/50: 0.30792123527533855\n",
      "Cost after epoch 22/50: 0.6441207033131798\n",
      "Cost after epoch 23/50: 0.5961154303295408\n",
      "Cost after epoch 24/50: 0.24722721561961386\n",
      "Cost after epoch 25/50: 5.135900055232454\n",
      "Cost after epoch 26/50: 0.5769161397688756\n",
      "Cost after epoch 27/50: 0.6024150156091205\n",
      "Cost after epoch 28/50: 0.5988294727553438\n",
      "Cost after epoch 29/50: 0.25227709317201175\n",
      "Cost after epoch 30/50: 1.4076593793895151\n",
      "Cost after epoch 31/50: 0.10177445901331267\n",
      "Cost after epoch 32/50: 0.2495797897322098\n",
      "Cost after epoch 33/50: 0.6070085633976041\n",
      "Cost after epoch 34/50: 2.067670501993551\n",
      "Cost after epoch 35/50: 0.14196222701745848\n",
      "Cost after epoch 36/50: 0.8088941666994007\n",
      "Cost after epoch 37/50: 0.6798157646080558\n",
      "Cost after epoch 38/50: 0.752955230386608\n",
      "Cost after epoch 39/50: 0.2073113127249554\n",
      "Cost after epoch 40/50: 0.0913993197466231\n",
      "Cost after epoch 41/50: 1.4789836593019472\n",
      "Cost after epoch 42/50: 0.7634852371254262\n",
      "Cost after epoch 43/50: 0.9416673923937109\n",
      "Cost after epoch 44/50: 0.48468661254622347\n",
      "Cost after epoch 45/50: 0.20811371116853344\n",
      "Cost after epoch 46/50: 0.5435897301215917\n",
      "Cost after epoch 47/50: 0.25944342797406733\n",
      "Cost after epoch 48/50: 0.32095252113634576\n",
      "Cost after epoch 49/50: 0.07474955759412528\n",
      "Train set accuracy: 99.87%\n",
      "Test set accuracy: 98.0%\n"
     ]
    }
   ],
   "source": [
    "layer_dims = [n_x,300,n_y]\n",
    "nn = model(train_X, test_X, multiclass_train_Y, multiclass_test_Y, layer_dims)"
   ]
  },
  {
   "cell_type": "markdown",
   "metadata": {},
   "source": [
    "### 2 layer NN with 800 HU"
   ]
  },
  {
   "cell_type": "code",
   "execution_count": 8,
   "metadata": {},
   "outputs": [
    {
     "name": "stdout",
     "output_type": "stream",
     "text": [
      "Cost after epoch 0/50: 8.355840472283738\n",
      "Cost after epoch 1/50: 15.92123096217971\n",
      "Cost after epoch 2/50: 3.2095645730185067\n",
      "Cost after epoch 3/50: 9.606212319937553\n",
      "Cost after epoch 4/50: 6.152624362678135\n",
      "Cost after epoch 5/50: 6.646742401001461\n",
      "Cost after epoch 6/50: 0.9709668343366863\n",
      "Cost after epoch 7/50: 2.502584622632905\n",
      "Cost after epoch 8/50: 11.411141494152067\n",
      "Cost after epoch 9/50: 0.649530298894871\n",
      "Cost after epoch 10/50: 0.6172386289189543\n",
      "Cost after epoch 11/50: 3.1409180978432234\n",
      "Cost after epoch 12/50: 4.197036391659313\n",
      "Cost after epoch 13/50: 2.210493375539399\n",
      "Cost after epoch 14/50: 6.746504895788266\n",
      "Cost after epoch 15/50: 0.7528228353754426\n",
      "Cost after epoch 16/50: 2.994275552379687\n",
      "Cost after epoch 17/50: 0.2813141425831936\n",
      "Cost after epoch 18/50: 2.3465754379492334\n",
      "Cost after epoch 19/50: 0.33658043677449967\n",
      "Cost after epoch 20/50: 0.6976421799186874\n",
      "Cost after epoch 21/50: 0.8575875387408904\n",
      "Cost after epoch 22/50: 0.9272635980002919\n",
      "Cost after epoch 23/50: 0.3620062998102326\n",
      "Cost after epoch 24/50: 0.5366665774994395\n",
      "Cost after epoch 25/50: 2.3382583463107656\n",
      "Cost after epoch 26/50: 1.435971871788633\n",
      "Cost after epoch 27/50: 0.2772736293357925\n",
      "Cost after epoch 28/50: 1.0209703051540167\n",
      "Cost after epoch 29/50: 0.3826360361401609\n",
      "Cost after epoch 30/50: 0.6221251334768505\n",
      "Cost after epoch 31/50: 0.09985191673110713\n",
      "Cost after epoch 32/50: 0.34290870051902556\n",
      "Cost after epoch 33/50: 0.1978087610983682\n",
      "Cost after epoch 34/50: 0.3632926829188563\n",
      "Cost after epoch 35/50: 0.4879315408726309\n",
      "Cost after epoch 36/50: 0.05745615251358534\n",
      "Cost after epoch 37/50: 0.7906476552416377\n",
      "Cost after epoch 38/50: 0.16720402180368518\n",
      "Cost after epoch 39/50: 0.14582385526286712\n",
      "Cost after epoch 40/50: 0.49313746881162945\n",
      "Cost after epoch 41/50: 0.3000938254959168\n",
      "Cost after epoch 42/50: 0.20395135946680668\n",
      "Cost after epoch 43/50: 0.6535413477284222\n",
      "Cost after epoch 44/50: 0.7089781522703196\n",
      "Cost after epoch 45/50: 2.3165411183743454\n",
      "Cost after epoch 46/50: 0.4472331613594831\n",
      "Cost after epoch 47/50: 0.6771621362844645\n",
      "Cost after epoch 48/50: 0.20242113973950532\n",
      "Cost after epoch 49/50: 0.4006473019083889\n",
      "Train set accuracy: 99.87833333333333%\n",
      "Test set accuracy: 98.2%\n"
     ]
    }
   ],
   "source": [
    "layer_dims = [n_x,800,n_y]\n",
    "nn = model(train_X, test_X, multiclass_train_Y, multiclass_test_Y, layer_dims)"
   ]
  },
  {
   "cell_type": "code",
   "execution_count": 9,
   "metadata": {},
   "outputs": [],
   "source": [
    "### 3 layer NN with 300 + 100 HU"
   ]
  },
  {
   "cell_type": "code",
   "execution_count": 10,
   "metadata": {},
   "outputs": [
    {
     "name": "stdout",
     "output_type": "stream",
     "text": [
      "Cost after epoch 0/50: 17.720276486414523\n",
      "Cost after epoch 1/50: 14.573733221394559\n",
      "Cost after epoch 2/50: 5.112767288863813\n",
      "Cost after epoch 3/50: 1.8586629864132553\n",
      "Cost after epoch 4/50: 1.9696872883423233\n",
      "Cost after epoch 5/50: 6.126213833778041\n",
      "Cost after epoch 6/50: 2.1240206099920096\n",
      "Cost after epoch 7/50: 3.6507795609068827\n",
      "Cost after epoch 8/50: 1.0813468429669422\n",
      "Cost after epoch 9/50: 0.8124234402030417\n",
      "Cost after epoch 10/50: 0.159510154099897\n",
      "Cost after epoch 11/50: 0.38548194017194104\n",
      "Cost after epoch 12/50: 0.42184306773344743\n",
      "Cost after epoch 13/50: 1.2377491430995766\n",
      "Cost after epoch 14/50: 0.8190509697253914\n",
      "Cost after epoch 15/50: 3.9692684583066833\n",
      "Cost after epoch 16/50: 0.47191151961582706\n",
      "Cost after epoch 17/50: 0.031214338619493076\n",
      "Cost after epoch 18/50: 0.5683466958490055\n",
      "Cost after epoch 19/50: 0.19429074689752446\n",
      "Cost after epoch 20/50: 0.35153023382126813\n",
      "Cost after epoch 21/50: 0.5498093350646287\n",
      "Cost after epoch 22/50: 0.27093805031621543\n",
      "Cost after epoch 23/50: 3.481661125368079\n",
      "Cost after epoch 24/50: 1.0851867876800698\n",
      "Cost after epoch 25/50: 0.17149149254894758\n",
      "Cost after epoch 26/50: 0.11316797439735508\n",
      "Cost after epoch 27/50: 0.6236810237375775\n",
      "Cost after epoch 28/50: 0.3118313848187871\n",
      "Cost after epoch 29/50: 0.1283598474647104\n",
      "Cost after epoch 30/50: 0.08218211312644434\n",
      "Cost after epoch 31/50: 0.6338679982632339\n",
      "Cost after epoch 32/50: 0.16192587119766277\n",
      "Cost after epoch 33/50: 0.07918525384964904\n",
      "Cost after epoch 34/50: 0.45820808218821646\n",
      "Cost after epoch 35/50: 0.09498723368127224\n",
      "Cost after epoch 36/50: 0.015103310444357022\n",
      "Cost after epoch 37/50: 0.12594361888894318\n",
      "Cost after epoch 38/50: 0.07409974754668053\n",
      "Cost after epoch 39/50: 0.05134712597910045\n",
      "Cost after epoch 40/50: 0.0025476388202402504\n",
      "Cost after epoch 41/50: 0.028527706682982074\n",
      "Cost after epoch 42/50: 0.0665636776358412\n",
      "Cost after epoch 43/50: 0.036722776681495234\n",
      "Cost after epoch 44/50: 0.04104680769528055\n",
      "Cost after epoch 45/50: 0.012851136093060225\n",
      "Cost after epoch 46/50: 0.07003276186787019\n",
      "Cost after epoch 47/50: 0.10976143718321307\n",
      "Cost after epoch 48/50: 0.07968110713090965\n",
      "Cost after epoch 49/50: 0.02280374660996756\n",
      "Train set accuracy: 100.0%\n",
      "Test set accuracy: 98.08%\n"
     ]
    }
   ],
   "source": [
    "layer_dims = [n_x,300,100,n_y]\n",
    "nn = model(train_X, test_X, multiclass_train_Y, multiclass_test_Y, layer_dims)"
   ]
  },
  {
   "cell_type": "markdown",
   "metadata": {},
   "source": [
    "#### As expected increasing complexity of the model has marginal impact on results as training set performance (bias) already high.  Regularization or larger dataset may help decrease variance"
   ]
  },
  {
   "cell_type": "code",
   "execution_count": null,
   "metadata": {},
   "outputs": [],
   "source": []
  }
 ],
 "metadata": {
  "kernelspec": {
   "display_name": "Python 3",
   "language": "python",
   "name": "python3"
  },
  "language_info": {
   "codemirror_mode": {
    "name": "ipython",
    "version": 3
   },
   "file_extension": ".py",
   "mimetype": "text/x-python",
   "name": "python",
   "nbconvert_exporter": "python",
   "pygments_lexer": "ipython3",
   "version": "3.6.5"
  }
 },
 "nbformat": 4,
 "nbformat_minor": 2
}
