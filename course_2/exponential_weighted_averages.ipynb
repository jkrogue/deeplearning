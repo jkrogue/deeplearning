{
 "cells": [
  {
   "cell_type": "code",
   "execution_count": 59,
   "metadata": {},
   "outputs": [],
   "source": [
    "import numpy as np\n",
    "import matplotlib.pyplot as plt\n",
    "\n",
    "%matplotlib inline\n",
    "\n",
    "dataset = np.array([45, 20, 100, 30, 40, 50, 60, 70, 80, 30, 70, 30, 24, 25, 27, 30, 35, 30, 38, 27, 25, 24, 29, 20, 18, 17, 21, 16, 13, 19, 21, 12, 9, 11, 7, 4, 8, 5, 2, 1, 8, 13, 15, 10, 8, 7, 6, 4])\n",
    "dataset = dataset / np.max(dataset)\n",
    "m = len(dataset)\n",
    "nums = range(1,m+1)\n",
    "\n",
    "beta = 0.9\n",
    "exps = []\n",
    "exp = (1-beta)\n",
    "for each in range(m):\n",
    "    exps.append(exp)\n",
    "    exp = exp * beta\n",
    "exps = exps[::-1]\n",
    "exps = np.array(exps)"
   ]
  },
  {
   "cell_type": "code",
   "execution_count": 60,
   "metadata": {},
   "outputs": [
    {
     "data": {
      "text/plain": [
       "[<matplotlib.lines.Line2D at 0x112ed64e0>]"
      ]
     },
     "execution_count": 60,
     "metadata": {},
     "output_type": "execute_result"
    },
    {
     "data": {
      "image/png": "[encoded data removed]",
      "text/plain": [
       "<Figure size 432x288 with 1 Axes>"
      ]
     },
     "metadata": {},
     "output_type": "display_data"
    }
   ],
   "source": [
    "plt.scatter(nums, dataset)\n",
    "plt.plot(exps)"
   ]
  },
  {
   "cell_type": "code",
   "execution_count": 61,
   "metadata": {},
   "outputs": [],
   "source": [
    "corr_weighted_avgs = []\n",
    "uncorr_weighted_avgs = []\n",
    "v = 0\n",
    "for each in dataset:\n",
    "    v = v*beta + (1-beta) * each\n",
    "    uncorr_weighted_avgs.append(v)\n",
    "    \n",
    "v = 0\n",
    "for i, each in enumerate(dataset):\n",
    "    v = v*beta + (1-beta) * each\n",
    "    corr = (1 - (beta ** (i+1)))\n",
    "    corr_weighted_avgs.append(v/corr)"
   ]
  },
  {
   "cell_type": "code",
   "execution_count": 62,
   "metadata": {},
   "outputs": [
    {
     "data": {
      "text/plain": [
       "0.42500000000000004"
      ]
     },
     "execution_count": 62,
     "metadata": {},
     "output_type": "execute_result"
    }
   ],
   "source": [
    "0.45 * 0.9 + 0.1 * 0.2"
   ]
  },
  {
   "cell_type": "code",
   "execution_count": 63,
   "metadata": {},
   "outputs": [
    {
     "data": {
      "text/plain": [
       "[<matplotlib.lines.Line2D at 0x112fe3ef0>]"
      ]
     },
     "execution_count": 63,
     "metadata": {},
     "output_type": "execute_result"
    },
    {
     "data": {
      "image/png": "[encoded data removed]",
      "text/plain": [
       "<Figure size 432x288 with 1 Axes>"
      ]
     },
     "metadata": {},
     "output_type": "display_data"
    }
   ],
   "source": [
    "plt.scatter(nums, dataset)\n",
    "plt.plot(nums, uncorr_weighted_avgs, color = 'green')\n",
    "plt.plot(nums, corr_weighted_avgs, color = 'r')"
   ]
  },
  {
   "cell_type": "code",
   "execution_count": 67,
   "metadata": {},
   "outputs": [
    {
     "data": {
      "text/plain": [
       "0.10174935514166414"
      ]
     },
     "execution_count": 67,
     "metadata": {},
     "output_type": "execute_result"
    }
   ],
   "source": []
  },
  {
   "cell_type": "code",
   "execution_count": 68,
   "metadata": {},
   "outputs": [
    {
     "data": {
      "text/plain": [
       "0.1017493551416642"
      ]
     },
     "execution_count": 68,
     "metadata": {},
     "output_type": "execute_result"
    }
   ],
   "source": [
    "\n",
    "uncorr_weighted_avgs[m-1]\n",
    "sum(dataset * exps)"
   ]
  },
  {
   "cell_type": "code",
   "execution_count": null,
   "metadata": {},
   "outputs": [],
   "source": []
  }
 ],
 "metadata": {
  "kernelspec": {
   "display_name": "Python 3",
   "language": "python",
   "name": "python3"
  },
  "language_info": {
   "codemirror_mode": {
    "name": "ipython",
    "version": 3
   },
   "file_extension": ".py",
   "mimetype": "text/x-python",
   "name": "python",
   "nbconvert_exporter": "python",
   "pygments_lexer": "ipython3",
   "version": "3.6.5"
  }
 },
 "nbformat": 4,
 "nbformat_minor": 2
}
